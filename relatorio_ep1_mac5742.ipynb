{
 "cells": [
  {
   "cell_type": "markdown",
   "id": "a8078e56",
   "metadata": {},
   "source": [
    "## Introdução\n",
    "\n",
    "Você já ouviu falar do Conjunto de Mandelbrot1? Seu descobridor foi Benoit Mandelbrot, que trabalhava na IBM durante a década de 1960 e foi um dos primeiros a usar computação gráfica para mostrar como complexidade pode surgir a partir de regras simples. Benoit fez isso gerando e visualizando imagens de geometria fractal.\n",
    "Um desses fractais foi nomeado Conjunto de Mandelbrot pelo matemático Adrien Douady. O Conjunto de Mandelbrot pode ser informalmente definido como o conjunto dos números complexos c para os quais a função fc(z) = z2 + x não diverge quando é iterada começando em z = 0. Isto é, a sequência fc(0), fc(fc(0)), fc(fc(fc(0))), . . . é sempre limitada. A Figura 1 mostra uma região do Conjunto de Mandelbrot conhecida como Seahorse Valley.\n",
    "\n",
    "![image info](./doc/img/elephant.png)\n"
   ]
  },
  {
   "cell_type": "markdown",
   "id": "b518f568",
   "metadata": {},
   "source": [
    "## Metodologia\n",
    "\n",
    "- falar da paralelização do programa em Ptreads e OpenMP e particularidades\n",
    "- falar sobre os experimentos, onde foi adaptado o programa run measuremente para aceitar o numero de threads e feito 10 medicoes e captura o tempo médio e desvio padrão com auxílio do 'perf stat'\n",
    "- Vocês devem analisar também o impacto das porções não paralelizáveis do código sequencial: as operações de I/O e alocação de memória. Uma vez que você verifique que as versões parale- lizadas produzem o resultado correto, elas não precisam realizar I/O e alocação de memória nos testes de desempenho, pois esses custos são fixos e assim aceleramos os experimentos.\n",
    "\n",
    "<style type=\"text/css\">\n",
    ".tg  {border-collapse:collapse;border-spacing:0;}\n",
    ".tg td{border-color:black;border-style:solid;border-width:1px;font-family:Arial, sans-serif;font-size:14px;\n",
    "  overflow:hidden;padding:10px 5px;word-break:normal;}\n",
    ".tg th{border-color:black;border-style:solid;border-width:1px;font-family:Arial, sans-serif;font-size:14px;\n",
    "  font-weight:normal;overflow:hidden;padding:10px 5px;word-break:normal;}\n",
    ".tg .tg-0pky{border-color:inherit;text-align:left;vertical-align:top}\n",
    "</style>\n",
    "<table class=\"tg\">\n",
    "<thead>\n",
    "  <tr>\n",
    "    <th class=\"tg-0pky\"></th>\n",
    "    <th class=\"tg-0pky\">Pthreads OpenMP Sequencial</th>\n",
    "    <th class=\"tg-0pky\"></th>\n",
    "    <th class=\"tg-0pky\"></th>\n",
    "    <th class=\"tg-0pky\"></th>\n",
    "  </tr>\n",
    "</thead>\n",
    "<tbody>\n",
    "  <tr>\n",
    "    <td class=\"tg-0pky\">Regiões</td>\n",
    "    <td class=\"tg-0pky\">Triple Spiral, Elephant, Seahorse &amp; Full</td>\n",
    "    <td class=\"tg-0pky\"></td>\n",
    "    <td class=\"tg-0pky\"></td>\n",
    "    <td class=\"tg-0pky\"></td>\n",
    "  </tr>\n",
    "  <tr>\n",
    "    <td class=\"tg-0pky\">I/O e Aloc. Mem.</td>\n",
    "    <td class=\"tg-0pky\">Sem</td>\n",
    "    <td class=\"tg-0pky\">Com e Sem</td>\n",
    "    <td class=\"tg-0pky\"></td>\n",
    "    <td class=\"tg-0pky\"></td>\n",
    "  </tr>\n",
    "  <tr>\n",
    "    <td class=\"tg-0pky\">No de Threads</td>\n",
    "    <td class=\"tg-0pky\">2^2 ... 2^5</td>\n",
    "    <td class=\"tg-0pky\"></td>\n",
    "    <td class=\"tg-0pky\"></td>\n",
    "    <td class=\"tg-0pky\"></td>\n",
    "  </tr>\n",
    "  <tr>\n",
    "    <td class=\"tg-0pky\">Tamanho da Entrada</td>\n",
    "    <td class=\"tg-0pky\">2^4 ... 2^{13}</td>\n",
    "    <td class=\"tg-0pky\"></td>\n",
    "    <td class=\"tg-0pky\"></td>\n",
    "    <td class=\"tg-0pky\"></td>\n",
    "  </tr>\n",
    "  <tr>\n",
    "    <td class=\"tg-0pky\">No de Execuções</td>\n",
    "    <td class=\"tg-0pky\">10</td>\n",
    "    <td class=\"tg-0pky\"></td>\n",
    "    <td class=\"tg-0pky\"></td>\n",
    "    <td class=\"tg-0pky\"></td>\n",
    "  </tr>\n",
    "</tbody>\n",
    "</table>"
   ]
  },
  {
   "cell_type": "markdown",
   "id": "c1fb904d",
   "metadata": {},
   "source": [
    "## Resultados e Análises"
   ]
  },
  {
   "cell_type": "markdown",
   "id": "1246a90c",
   "metadata": {},
   "source": [
    "### Sequencial\n",
    "\n"
   ]
  },
  {
   "cell_type": "markdown",
   "id": "046f787a",
   "metadata": {},
   "source": [
    "### Pthreads\n",
    "\n",
    "Conforme mostram os resultados obtidos por nossos experimentos, o ganho de performance do paralelismo em relação ao desempenho sequencial (aumento do número de threads) começa a ser percebido a partir do tamanho de entrada N = 2^9; aonde, ao gerar uma visualização das regiões mais custosas computacionalmente (seahorse, elephant e triple_spiral), vemos uma redução de 0.1 segundo para 2^1 threads utilizadas, até 0.2 segundos para o máximo de threads explicitado no enunciado. \n",
    "\n",
    "Em relação à imagem completa do conjunto (full), devido a rapidez de sua geração mesmo na versão sequencial do programa, algo em torno de 10 segundos para N = 2^13, vimos como mais pertinente, para efeitos de comparação, focar a análise apenas nas outras 3 regiões de Mandelbrot, que demoram cerca de 1 minuto para serem criadas na versão sequencial do código fornecido. \n",
    "\n",
    "É importante ressaltar que os ganhos de performance gerados pelo paralelismo não foram lineares. Essa característica é claramente demonstrada ao compararmos a performance do programa sequencial com as entradas 2^12 e 2^13 (por fins de clareza, as chamemos de N1 e N2, respectivamente): Analisando os logs da região triple_spiral, enquanto N1 consegue uma melhora de desempenho de 42% (~6 segundos) ao dividirmos as tarefas de 1 para 2 threads, o programa executa cerca de 60% mais rápido (~5 segundos) com de 2 para 8 threads, mas melhora apenas 20% (~0.7 segundos) entre 8 e 32 threads.  "
   ]
  },
  {
   "cell_type": "markdown",
   "id": "e30d9498",
   "metadata": {},
   "source": [
    "### OpenMP"
   ]
  },
  {
   "cell_type": "code",
   "execution_count": null,
   "id": "501d3678",
   "metadata": {},
   "outputs": [],
   "source": []
  }
 ],
 "metadata": {
  "kernelspec": {
   "display_name": "Julia 1.4.1",
   "language": "julia",
   "name": "julia-1.4"
  },
  "language_info": {
   "file_extension": ".jl",
   "mimetype": "application/julia",
   "name": "julia",
   "version": "1.4.1"
  }
 },
 "nbformat": 4,
 "nbformat_minor": 5
}
