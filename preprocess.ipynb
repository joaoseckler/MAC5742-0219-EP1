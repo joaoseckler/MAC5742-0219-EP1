{
 "cells": [
  {
   "cell_type": "markdown",
   "id": "88382f9f",
   "metadata": {},
   "source": [
    "## Preprocess\n",
    "\n",
    "a partir dos logs gerados pelo `perf` este script serve para: \n",
    "\n",
    "- parsear o csv e exportar\n",
    "- fazer gráfico com matplotlib e exportar png\n"
   ]
  },
  {
   "cell_type": "code",
   "execution_count": 180,
   "id": "4d315bb8",
   "metadata": {},
   "outputs": [],
   "source": [
    "import re\n",
    "import os\n",
    "import glob2\n",
    "import pandas as pd\n",
    "import matplotlib.pyplot as plt\n",
    "import numpy as np"
   ]
  },
  {
   "cell_type": "code",
   "execution_count": 27,
   "id": "3c58fbd0",
   "metadata": {},
   "outputs": [
    {
     "name": "stdout",
     "output_type": "stream",
     "text": [
      "\u001b[01;34msrc/results\u001b[00m\r\n",
      "├── \u001b[01;34mmandelbrot_omp\u001b[00m\r\n",
      "│   ├── elephant_copy.log\r\n",
      "│   ├── elephant.log\r\n",
      "│   ├── full.log\r\n",
      "│   ├── seahorse.log\r\n",
      "│   └── triple_spiral.log\r\n",
      "├── \u001b[01;34mmandelbrot_pth\u001b[00m\r\n",
      "│   ├── elephant.log\r\n",
      "│   ├── full.log\r\n",
      "│   ├── seahorse.log\r\n",
      "│   └── triple_spiral.log\r\n",
      "└── \u001b[01;34mmandelbrot_seq\u001b[00m\r\n",
      "    ├── elephant.log\r\n",
      "    ├── full.log\r\n",
      "    ├── seahorse.log\r\n",
      "    └── triple_spiral.log\r\n",
      "\r\n",
      "3 directories, 13 files\r\n"
     ]
    }
   ],
   "source": [
    "!tree src/results"
   ]
  },
  {
   "cell_type": "code",
   "execution_count": 36,
   "id": "58f9d8e0",
   "metadata": {},
   "outputs": [],
   "source": [
    "logs = [f for f in glob2.glob(\"src/results/**/*.log\", recursive=True)]"
   ]
  },
  {
   "cell_type": "code",
   "execution_count": 178,
   "id": "803581a3",
   "metadata": {},
   "outputs": [
    {
     "data": {
      "text/plain": [
       "['src/results/mandelbrot_omp/seahorse.log',\n",
       " 'src/results/mandelbrot_omp/triple_spiral.log',\n",
       " 'src/results/mandelbrot_omp/full.log',\n",
       " 'src/results/mandelbrot_omp/elephant.log',\n",
       " 'src/results/mandelbrot_pth/seahorse.log',\n",
       " 'src/results/mandelbrot_pth/triple_spiral.log',\n",
       " 'src/results/mandelbrot_pth/full.log',\n",
       " 'src/results/mandelbrot_pth/elephant.log',\n",
       " 'src/results/mandelbrot_seq/seahorse.log']"
      ]
     },
     "execution_count": 178,
     "metadata": {},
     "output_type": "execute_result"
    }
   ],
   "source": [
    "logs[:8]"
   ]
  },
  {
   "cell_type": "code",
   "execution_count": 169,
   "id": "c6e6386b",
   "metadata": {},
   "outputs": [],
   "source": [
    "def get_avg_std_time(path, export_csv=True, export_graph=True):\n",
    "    \n",
    "    basename = os.path.basename(path).split('.')[0]\n",
    "    dirname = os.path.dirname(path)\n",
    "    \n",
    "    with open(path, 'r') as file:\n",
    "        log = file.read()\n",
    "    \n",
    "    # regex to extract interest lines\n",
    "    times = re.findall(\"\\d.*?seconds\", log)\n",
    "    sizes_threads = re.findall(\"\\d* \\d*' \\(10 run\", log)\n",
    "\n",
    "    # create list with information and parse\n",
    "    avg_time = [float(time.split(' ')[0].replace(',','.')) for time in times]\n",
    "    std_time = [float(time.split(' ')[2].replace(',','.')) for time in times]\n",
    "    sizes = [size.split(' ')[0] for size in sizes_threads]\n",
    "    threads = [thread.split(' ')[1].split(\"'\")[0] for thread in sizes_threads]\n",
    "    \n",
    "    # create pandas dataframe\n",
    "    df = pd.DataFrame({\n",
    "        'avg_time': avg_time, \n",
    "        'std_time': std_time,\n",
    "        'sizes': sizes, \n",
    "        'threads': threads, \n",
    "    })\n",
    "    df.threads = pd.to_numeric(df.threads)\n",
    "    df.sizes = pd.to_numeric(df.sizes)\n",
    "    \n",
    "    # export csv\n",
    "    if export_csv:\n",
    "        print('Saving csv in {}'.format(os.path.join(dirname, basename+'.csv')))\n",
    "        df.to_csv(os.path.join(dirname, basename+'.csv'))\n",
    "    \n",
    "    # export graphs\n",
    "#     if export_graph:\n",
    "#         print('Saving graph in {}'.format(os.path.join(dirname, basename+'.png')))\n",
    "#         export_graph(df, basename)\n",
    "#         print(basename)\n",
    "\n",
    "    return df"
   ]
  },
  {
   "cell_type": "code",
   "execution_count": 179,
   "id": "500d6456",
   "metadata": {},
   "outputs": [
    {
     "name": "stdout",
     "output_type": "stream",
     "text": [
      "src/results/mandelbrot_omp/seahorse.log\n",
      "Saving csv in src/results/mandelbrot_omp/seahorse.csv\n",
      "Saving graph in src/results/mandelbrot_omp/seahorse.png\n",
      "src/results/mandelbrot_omp/triple_spiral.log\n",
      "Saving csv in src/results/mandelbrot_omp/triple_spiral.csv\n",
      "Saving graph in src/results/mandelbrot_omp/triple_spiral.png\n",
      "src/results/mandelbrot_omp/full.log\n",
      "Saving csv in src/results/mandelbrot_omp/full.csv\n",
      "Saving graph in src/results/mandelbrot_omp/full.png\n",
      "src/results/mandelbrot_omp/elephant.log\n",
      "Saving csv in src/results/mandelbrot_omp/elephant.csv\n",
      "Saving graph in src/results/mandelbrot_omp/elephant.png\n",
      "src/results/mandelbrot_pth/seahorse.log\n",
      "Saving csv in src/results/mandelbrot_pth/seahorse.csv\n",
      "Saving graph in src/results/mandelbrot_pth/seahorse.png\n",
      "src/results/mandelbrot_pth/triple_spiral.log\n",
      "Saving csv in src/results/mandelbrot_pth/triple_spiral.csv\n",
      "Saving graph in src/results/mandelbrot_pth/triple_spiral.png\n",
      "src/results/mandelbrot_pth/full.log\n",
      "Saving csv in src/results/mandelbrot_pth/full.csv\n",
      "Saving graph in src/results/mandelbrot_pth/full.png\n",
      "src/results/mandelbrot_pth/elephant.log\n",
      "Saving csv in src/results/mandelbrot_pth/elephant.csv\n",
      "Saving graph in src/results/mandelbrot_pth/elephant.png\n"
     ]
    }
   ],
   "source": [
    "for log in logs[:8]:\n",
    "    path =  log\n",
    "    print(path)\n",
    "    basename = os.path.basename(path).split('.')[0]\n",
    "    dirname = os.path.dirname(path)\n",
    "\n",
    "    df = get_avg_std_time(path)\n",
    "\n",
    "    labels = [2**i for i in range(4, 14)]\n",
    "\n",
    "    # set heights of bars\n",
    "    bars1 = df[df['threads'] == 1].avg_time.to_list()\n",
    "    bars2 = df[df['threads'] == 2].avg_time.to_list()\n",
    "    bars3 = df[df['threads'] == 4].avg_time.to_list()\n",
    "    bars4 = df[df['threads'] == 8].avg_time.to_list()\n",
    "    bars5 = df[df['threads'] == 16].avg_time.to_list()\n",
    "    bars6 = df[df['threads'] == 32].avg_time.to_list()\n",
    "\n",
    "    # men_std = [2, 3, 4, 1, 2]\n",
    "    # women_std = [3, 5, 2, 3, 3]\n",
    "\n",
    "    # set width of bars\n",
    "    barWidth = 0.15\n",
    "\n",
    "    # Set position of bar on X axis\n",
    "    r1 = np.arange(len(bars1))\n",
    "    r2 = [x + barWidth for x in r1]\n",
    "    r3 = [x + barWidth for x in r2]\n",
    "    r4 = [x + barWidth for x in r3]\n",
    "    r5 = [x + barWidth for x in r4]\n",
    "    r6 = [x + barWidth for x in r5]\n",
    "\n",
    "    plt.figure()\n",
    "\n",
    "\n",
    "    plt.bar(r1, bars1, width=barWidth, edgecolor='white', label='1', log=True)\n",
    "    plt.bar(r2, bars2, width=barWidth, edgecolor='white', label='2', log=True)\n",
    "    plt.bar(r3, bars3, width=barWidth, edgecolor='white', label='4', log=True)\n",
    "    plt.bar(r4, bars4, width=barWidth, edgecolor='white', label='8', log=True)\n",
    "    plt.bar(r5, bars5, width=barWidth, edgecolor='white', label='16', log=True)\n",
    "    plt.bar(r6, bars6, width=barWidth, edgecolor='white', label='32', log=True)\n",
    "\n",
    "    plt.xticks([r + barWidth for r in range(len(bars1))], labels)\n",
    "\n",
    "    # Add some text for labels, title and custom x-axis tick labels, etc.\n",
    "    plt.ylabel('Tempo Execução (s)')\n",
    "    plt.xlabel('Tamanho')\n",
    "    plt.title(basename)\n",
    "    plt.legend()\n",
    "\n",
    "    # plt.show()\n",
    "    print('Saving graph in {}'.format(os.path.join(dirname, basename+'.png')))\n",
    "    plt.savefig(os.path.join(dirname, basename + '.png'))\n",
    "    plt.close()"
   ]
  },
  {
   "cell_type": "code",
   "execution_count": null,
   "id": "4e3dcfb6",
   "metadata": {},
   "outputs": [],
   "source": []
  }
 ],
 "metadata": {
  "kernelspec": {
   "display_name": "Python 3",
   "language": "python",
   "name": "python3"
  },
  "language_info": {
   "codemirror_mode": {
    "name": "ipython",
    "version": 3
   },
   "file_extension": ".py",
   "mimetype": "text/x-python",
   "name": "python",
   "nbconvert_exporter": "python",
   "pygments_lexer": "ipython3",
   "version": "3.8.5"
  }
 },
 "nbformat": 4,
 "nbformat_minor": 5
}
